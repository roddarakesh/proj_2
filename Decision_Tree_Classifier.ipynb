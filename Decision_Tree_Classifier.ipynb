{
  "nbformat": 4,
  "nbformat_minor": 0,
  "metadata": {
    "colab": {
      "provenance": [],
      "authorship_tag": "ABX9TyOS9FClvhjZQy1az4BTCv8v",
      "include_colab_link": true
    },
    "kernelspec": {
      "name": "python3",
      "display_name": "Python 3"
    },
    "language_info": {
      "name": "python"
    }
  },
  "cells": [
    {
      "cell_type": "markdown",
      "metadata": {
        "id": "view-in-github",
        "colab_type": "text"
      },
      "source": [
        "<a href=\"https://colab.research.google.com/github/roddarakesh/proj_2/blob/SSO%2FTemplate/Decision_Tree_Classifier.ipynb\" target=\"_parent\"><img src=\"https://colab.research.google.com/assets/colab-badge.svg\" alt=\"Open In Colab\"/></a>"
      ]
    },
    {
      "cell_type": "code",
      "execution_count": null,
      "metadata": {
        "id": "EoB3J_22_Hbc"
      },
      "outputs": [],
      "source": [
        "import pandas as pd\n",
        "from sklearn.model_selection import train_test_split\n",
        "from sklearn.preprocessing import StandardScaler\n",
        "from sklearn.linear_model import LogisticRegression\n",
        "from sklearn.svm import SVC\n",
        "from sklearn.neighbors import KNeighborsClassifier\n",
        "from sklearn.tree import DecisionTreeClassifier\n",
        "from sklearn.ensemble import RandomForestClassifier"
      ]
    },
    {
      "cell_type": "code",
      "source": [
        "# Load in data"
      ],
      "metadata": {
        "id": "a9xLCwG0_N1Z"
      },
      "execution_count": null,
      "outputs": []
    },
    {
      "cell_type": "code",
      "source": [
        "# Drop the label to create the X data"
      ],
      "metadata": {
        "id": "eOcjSGuU_PJ4"
      },
      "execution_count": null,
      "outputs": []
    },
    {
      "cell_type": "code",
      "source": [
        "# Create the y set from the \"Churn\" column"
      ],
      "metadata": {
        "id": "s8O9lPQ1_RFw"
      },
      "execution_count": null,
      "outputs": []
    },
    {
      "cell_type": "code",
      "source": [
        "# Split the data into training and testing sets using random_state=1"
      ],
      "metadata": {
        "id": "vL7aARMg_TcR"
      },
      "execution_count": null,
      "outputs": []
    },
    {
      "cell_type": "code",
      "source": [
        "# Scale the X data by using StandardScaler()"
      ],
      "metadata": {
        "id": "E_sAN6Gx_Vvh"
      },
      "execution_count": null,
      "outputs": []
    },
    {
      "cell_type": "code",
      "source": [
        "# Transform the test dataset based on the fit from the training dataset"
      ],
      "metadata": {
        "id": "TAeWi53A_XGZ"
      },
      "execution_count": null,
      "outputs": []
    },
    {
      "cell_type": "markdown",
      "source": [
        "**Model & Fit to a logistic regression classifier**"
      ],
      "metadata": {
        "id": "aIe43dtd_jQI"
      }
    },
    {
      "cell_type": "code",
      "source": [
        "# Create the logistic regression classifier model with a random_state of 1"
      ],
      "metadata": {
        "id": "AzeMfxrS_YmA"
      },
      "execution_count": null,
      "outputs": []
    },
    {
      "cell_type": "code",
      "source": [
        "# # Validate the model by checking the model accuracy with model.scoreFit the model to the training data\n",
        "Print(f\"Training Data Score: {classifier.score(X_train, y_train)}\")\n",
        "Print(f\"Testing Data Score: {classifier.score(X_test, y_test)}\")"
      ],
      "metadata": {
        "id": "ySuXSLtA_suZ"
      },
      "execution_count": null,
      "outputs": []
    },
    {
      "cell_type": "markdown",
      "source": [
        "**Model and Fit to a Support Vector Machine**"
      ],
      "metadata": {
        "id": "PdOnnp1i_0mT"
      }
    },
    {
      "cell_type": "code",
      "source": [
        "# Create the support vector machine classifier model with a 'rbf' kernel"
      ],
      "metadata": {
        "id": "o7mkxOVB_6Jj"
      },
      "execution_count": null,
      "outputs": []
    },
    {
      "cell_type": "code",
      "source": [
        "# Fit the model to the training data"
      ],
      "metadata": {
        "id": "rxyBWG5d_93A"
      },
      "execution_count": null,
      "outputs": []
    },
    {
      "cell_type": "code",
      "source": [
        "# Validate the model by checking the model accuracy with model.score"
      ],
      "metadata": {
        "id": "Mnvlaapb__PQ"
      },
      "execution_count": null,
      "outputs": []
    },
    {
      "cell_type": "markdown",
      "source": [
        "**Model and Fit to a KNN Model**"
      ],
      "metadata": {
        "id": "djL6axwzABup"
      }
    },
    {
      "cell_type": "code",
      "source": [
        "# Create the KNN model with 9 neighbors"
      ],
      "metadata": {
        "id": "poEJJ-H4AFT5"
      },
      "execution_count": null,
      "outputs": []
    },
    {
      "cell_type": "code",
      "source": [
        "# Fit the model to the training data"
      ],
      "metadata": {
        "id": "IvpmUaYmAH0q"
      },
      "execution_count": null,
      "outputs": []
    },
    {
      "cell_type": "code",
      "source": [
        "# Validate the model by checking the model accuracy with model.score"
      ],
      "metadata": {
        "id": "jNsgAKjjAJsp"
      },
      "execution_count": null,
      "outputs": []
    },
    {
      "cell_type": "markdown",
      "source": [
        "**Model and Fit to a Decision Tree Classifier**"
      ],
      "metadata": {
        "id": "qFZg1x9rAM1Z"
      }
    },
    {
      "cell_type": "code",
      "source": [
        "# Create the decision tree classifier model"
      ],
      "metadata": {
        "id": "8tAdNeVfARLZ"
      },
      "execution_count": null,
      "outputs": []
    },
    {
      "cell_type": "code",
      "source": [
        "# Fit the model to the training data"
      ],
      "metadata": {
        "id": "JeN6_po-AUHZ"
      },
      "execution_count": null,
      "outputs": []
    },
    {
      "cell_type": "code",
      "source": [
        "# Validate the model by checking the model accuracy with model.score"
      ],
      "metadata": {
        "id": "U4GYlwpoAWDg"
      },
      "execution_count": null,
      "outputs": []
    },
    {
      "cell_type": "markdown",
      "source": [
        "**Model and Fit to a Random Forest Classifier**"
      ],
      "metadata": {
        "id": "vxZUhnNnAYhJ"
      }
    },
    {
      "cell_type": "code",
      "source": [
        "# Create the random forest classifier model\n",
        "# with n_estimators=128 and random_state=1"
      ],
      "metadata": {
        "id": "3k7JYHdVAwA4"
      },
      "execution_count": null,
      "outputs": []
    },
    {
      "cell_type": "code",
      "source": [
        "# Validate the model by checking the model accuracy with model.score"
      ],
      "metadata": {
        "id": "msEzo9mYAw5I"
      },
      "execution_count": null,
      "outputs": []
    }
  ]
}