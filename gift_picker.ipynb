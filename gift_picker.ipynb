{
 "cells": [
  {
   "cell_type": "code",
   "execution_count": 10,
   "metadata": {},
   "outputs": [],
   "source": [
    "# Import the data\n",
    "import pandas as pd\n",
    "from sklearn.preprocessing import OneHotEncoder, LabelEncoder, OrdinalEncoder\n",
    "from sklearn import preprocessing \n",
    "\n",
    "# Models to use in our pipeline\n",
    "from sklearn.ensemble import RandomForestClassifier, AdaBoostClassifier\n",
    "from sklearn.tree import DecisionTreeClassifier\n",
    "from sklearn.svm import SVC\n",
    "from sklearn.pipeline import Pipeline\n",
    "from sklearn.preprocessing import StandardScaler\n",
    "\n",
    "\n",
    "\n",
    "from sklearn.tree import DecisionTreeRegressor\n",
    "\n",
    "# Preprocessing dependencies\n",
    "from sklearn.model_selection import train_test_split\n",
    "\n",
    "\n",
    "# Metrics\n",
    "from sklearn.metrics import mean_squared_error, r2_score"
   ]
  },
  {
   "cell_type": "code",
   "execution_count": 2,
   "metadata": {},
   "outputs": [
    {
     "data": {
      "text/html": [
       "<div>\n",
       "<style scoped>\n",
       "    .dataframe tbody tr th:only-of-type {\n",
       "        vertical-align: middle;\n",
       "    }\n",
       "\n",
       "    .dataframe tbody tr th {\n",
       "        vertical-align: top;\n",
       "    }\n",
       "\n",
       "    .dataframe thead th {\n",
       "        text-align: right;\n",
       "    }\n",
       "</style>\n",
       "<table border=\"1\" class=\"dataframe\">\n",
       "  <thead>\n",
       "    <tr style=\"text-align: right;\">\n",
       "      <th></th>\n",
       "      <th>Gender</th>\n",
       "      <th>Age</th>\n",
       "      <th>Relationship_Status</th>\n",
       "      <th>Budget</th>\n",
       "      <th>Occasion</th>\n",
       "      <th>Preference</th>\n",
       "      <th>Relationship_Length</th>\n",
       "      <th>Personal_Interest</th>\n",
       "      <th>Past_Gift_Item</th>\n",
       "      <th>Past_Gift_Reaction</th>\n",
       "      <th>Recent_Purchase_1</th>\n",
       "      <th>Recent_Purchase_2</th>\n",
       "      <th>Recent_Purchase_3</th>\n",
       "      <th>Best_Gift</th>\n",
       "    </tr>\n",
       "  </thead>\n",
       "  <tbody>\n",
       "    <tr>\n",
       "      <th>0</th>\n",
       "      <td>Male</td>\n",
       "      <td>56</td>\n",
       "      <td>Engaged</td>\n",
       "      <td>Low</td>\n",
       "      <td>Just Because</td>\n",
       "      <td>Adventurous</td>\n",
       "      <td>&lt;6 months</td>\n",
       "      <td>Music</td>\n",
       "      <td>Tech Gadget</td>\n",
       "      <td>Loved it</td>\n",
       "      <td>Meal Kit Sub</td>\n",
       "      <td>Gym Membership</td>\n",
       "      <td>Magazine Sub</td>\n",
       "      <td>Fashion Accessory</td>\n",
       "    </tr>\n",
       "    <tr>\n",
       "      <th>1</th>\n",
       "      <td>Female</td>\n",
       "      <td>58</td>\n",
       "      <td>Single</td>\n",
       "      <td>Low</td>\n",
       "      <td>Anniversary</td>\n",
       "      <td>Surprise</td>\n",
       "      <td>6-12 months</td>\n",
       "      <td>Technology</td>\n",
       "      <td>Chocolates</td>\n",
       "      <td>Loved it</td>\n",
       "      <td>Phone Charger</td>\n",
       "      <td>Smart Speaker</td>\n",
       "      <td>Processor Chip</td>\n",
       "      <td>Fashion Accessory</td>\n",
       "    </tr>\n",
       "    <tr>\n",
       "      <th>2</th>\n",
       "      <td>Female</td>\n",
       "      <td>21</td>\n",
       "      <td>Single</td>\n",
       "      <td>Low</td>\n",
       "      <td>Valentine's Day</td>\n",
       "      <td>Romantic</td>\n",
       "      <td>5+ years</td>\n",
       "      <td>Cooking</td>\n",
       "      <td>Fashion Accessory</td>\n",
       "      <td>Loved it</td>\n",
       "      <td>Magazine Sub</td>\n",
       "      <td>Streaming Sub</td>\n",
       "      <td>Meal Kit Sub</td>\n",
       "      <td>Flowers</td>\n",
       "    </tr>\n",
       "    <tr>\n",
       "      <th>3</th>\n",
       "      <td>Other</td>\n",
       "      <td>60</td>\n",
       "      <td>Married</td>\n",
       "      <td>Very High</td>\n",
       "      <td>Anniversary</td>\n",
       "      <td>Sentimental</td>\n",
       "      <td>6-12 months</td>\n",
       "      <td>Music</td>\n",
       "      <td>Chocolates</td>\n",
       "      <td>Loved it</td>\n",
       "      <td>Meal Kit Sub</td>\n",
       "      <td>Gym Membership</td>\n",
       "      <td>Magazine Sub</td>\n",
       "      <td>Personalized Gift</td>\n",
       "    </tr>\n",
       "    <tr>\n",
       "      <th>4</th>\n",
       "      <td>Male</td>\n",
       "      <td>56</td>\n",
       "      <td>Engaged</td>\n",
       "      <td>Low</td>\n",
       "      <td>Just Because</td>\n",
       "      <td>Adventurous</td>\n",
       "      <td>&lt;6 months</td>\n",
       "      <td>Music</td>\n",
       "      <td>Tech Gadget</td>\n",
       "      <td>Loved it</td>\n",
       "      <td>Meal Kit Sub</td>\n",
       "      <td>Gym Membership</td>\n",
       "      <td>Magazine Sub</td>\n",
       "      <td>Fashion Accessory</td>\n",
       "    </tr>\n",
       "  </tbody>\n",
       "</table>\n",
       "</div>"
      ],
      "text/plain": [
       "   Gender  Age Relationship_Status     Budget         Occasion   Preference  \\\n",
       "0    Male   56             Engaged        Low     Just Because  Adventurous   \n",
       "1  Female   58              Single        Low      Anniversary     Surprise   \n",
       "2  Female   21              Single        Low  Valentine's Day     Romantic   \n",
       "3   Other   60             Married  Very High      Anniversary  Sentimental   \n",
       "4    Male   56             Engaged        Low     Just Because  Adventurous   \n",
       "\n",
       "  Relationship_Length Personal_Interest     Past_Gift_Item Past_Gift_Reaction  \\\n",
       "0           <6 months             Music        Tech Gadget           Loved it   \n",
       "1         6-12 months        Technology         Chocolates           Loved it   \n",
       "2            5+ years           Cooking  Fashion Accessory           Loved it   \n",
       "3         6-12 months             Music         Chocolates           Loved it   \n",
       "4           <6 months             Music        Tech Gadget           Loved it   \n",
       "\n",
       "  Recent_Purchase_1 Recent_Purchase_2 Recent_Purchase_3          Best_Gift  \n",
       "0      Meal Kit Sub    Gym Membership      Magazine Sub  Fashion Accessory  \n",
       "1     Phone Charger     Smart Speaker    Processor Chip  Fashion Accessory  \n",
       "2      Magazine Sub     Streaming Sub      Meal Kit Sub            Flowers  \n",
       "3      Meal Kit Sub    Gym Membership      Magazine Sub  Personalized Gift  \n",
       "4      Meal Kit Sub    Gym Membership      Magazine Sub  Fashion Accessory  "
      ]
     },
     "execution_count": 2,
     "metadata": {},
     "output_type": "execute_result"
    }
   ],
   "source": [
    "df = pd.read_csv('data/valentine_gift.csv')\n",
    "df.head()"
   ]
  },
  {
   "cell_type": "code",
   "execution_count": 8,
   "metadata": {},
   "outputs": [],
   "source": [
    "# merge two samilar value to one vlaue\n",
    "def mergeData(df, column_name, value_one, value_two):\n",
    "    df[column_name] = df[column_name].replace(value_one, value_two)\n",
    "    \n",
    "# encode column's value\n",
    "def hot_encode(df):\n",
    "       categorical_columns = df.select_dtypes(include=['object']).columns.tolist()\n",
    "       encoder = OneHotEncoder(sparse_output=False)\n",
    "       one_hot_encoded = encoder.fit_transform(df[categorical_columns])\n",
    "\n",
    "       one_hot_df = pd.DataFrame(one_hot_encoded, columns=encoder.get_feature_names_out(categorical_columns))\n",
    "       df_encoded = pd.concat([df, one_hot_df], axis=1)\n",
    "       df_encoded = df_encoded.drop(categorical_columns, axis=1)\n",
    "\n",
    "       return df_encoded\n",
    "    \n",
    "def label_encode(df):\n",
    "# label_encoder object knows  \n",
    "# how to understand word labels. \n",
    "    label_encoder = preprocessing.LabelEncoder() \n",
    "    \n",
    "    # Encode labels in column 'species'. \n",
    "    df['Best_Gift_Encoded']= label_encoder.fit_transform(df['Best_Gift']) \n",
    "    \n",
    "    df['Best_Gift_Encoded'].unique() \n",
    "    print(df[['Best_Gift', 'Best_Gift_Encoded']].head())\n",
    "\n",
    "    return df['Best_Gift_Encoded']\n",
    "\n",
    "def clean_data(df):\n",
    "    \n",
    "    # drop useless columns\n",
    "    df = df.drop(columns = ['Past_Gift_Reaction'])\n",
    "\n",
    "    # combine the samiliar values for few columns\n",
    "    # mergeData(df, \"Recipient_Gender\", 'Non-Binary', 'Other')\n",
    "    # mergeData(df, \"Preference\", \"Sentimental\", \"Romantic\")\n",
    "    # mergeData(df, \"Personal_Interest\", \"Sports\", \"Fitness\")\n",
    "    # mergeData(df, \"Personal_Interest\", \"Gaming\", \"Technology\")\n",
    "    # mergeData(df, \"Best_Gift\", \"Handmade Gift\", \"Personalized Gift\")\n",
    "    # mergeData(df, \"Best_Gift\", \"Chocolates\", \"Chocolates & Flowers\")\n",
    "    # mergeData(df, \"Best_Gift\", \"Flowers\", \"Chocolates & Flowers\")\n",
    "    # mergeData(df, \"Best_Gift\", \"Jewelry\", \"Fashion Accessories\")\n",
    "\n",
    "\n",
    "    # split X and y\n",
    "    # use hot encoding to encode some columns in x \n",
    "    X = df.drop(columns=['Best_Gift'])\n",
    "    X = hot_encode (X)\n",
    "\n",
    "    # use OrdinalEncoder to encode \"Best_Gift\" column and get y\n",
    "    y = label_encode(df)\n",
    "\n",
    "    \n",
    "    return X, y"
   ]
  },
  {
   "cell_type": "code",
   "execution_count": 22,
   "metadata": {},
   "outputs": [],
   "source": [
    "def r2_adj(X, y, model):\n",
    "    \"\"\"\n",
    "    Calculates adjusted r-squared values\n",
    "\n",
    "    Args:\n",
    "    X: Independent variables, the data to fit\n",
    "    y: dependent variable, the target data to try to predict\n",
    "    model: The estimator or object to use to train the data\n",
    "\n",
    "    Returns: adjusted r sqaured value accountign for number of predictors\n",
    "    \"\"\"\n",
    "    r2 = model.score(X, y)\n",
    "    n = X.shape[0]\n",
    "    p = y.ndim\n",
    "\n",
    "\n",
    "def model_generator(X, y):\n",
    "    y = y.values.reshape(-1, 1)\n",
    "    X_train, X_test, y_train, y_test = train_test_split(X, y, random_state=7)\n",
    "\n",
    "    models = {\n",
    "        \"RF\": RandomForestClassifier(),\n",
    "        'DT': DecisionTreeClassifier(),\n",
    "        'SVC': SVC(),\n",
    "        'AB': AdaBoostClassifier()\n",
    "    }\n",
    "\n",
    "\n",
    "    for  name, model in models.items():\n",
    "        pipeline = Pipeline([\n",
    "            (\"Scale\", StandardScaler(with_mean=False)),\n",
    "            (name, model)\n",
    "        ])\n",
    "\n",
    "        pipeline.fit(X_train, y_train)\n",
    "        y_pred = pipeline.predict(X_test)\n",
    "        print(\"name:\", name, \"score:\", pipeline.score(X_test, y_test))\n",
    "        # print(accuracy_score(y_test, y_pred))\n",
    "\n",
    "    \n"
   ]
  },
  {
   "cell_type": "code",
   "execution_count": 9,
   "metadata": {},
   "outputs": [
    {
     "name": "stdout",
     "output_type": "stream",
     "text": [
      "           Best_Gift  Best_Gift_Encoded\n",
      "0  Fashion Accessory                  1\n",
      "1  Fashion Accessory                  1\n",
      "2            Flowers                  2\n",
      "3  Personalized Gift                  3\n",
      "4  Fashion Accessory                  1\n"
     ]
    }
   ],
   "source": [
    "X, y = clean_data(df)"
   ]
  },
  {
   "cell_type": "code",
   "execution_count": 23,
   "metadata": {},
   "outputs": [
    {
     "name": "stderr",
     "output_type": "stream",
     "text": [
      "/opt/anaconda3/lib/python3.12/site-packages/sklearn/base.py:1474: DataConversionWarning: A column-vector y was passed when a 1d array was expected. Please change the shape of y to (n_samples,), for example using ravel().\n",
      "  return fit_method(estimator, *args, **kwargs)\n"
     ]
    },
    {
     "name": "stdout",
     "output_type": "stream",
     "text": [
      "name: RF score: 0.966\n",
      "name: DT score: 0.972\n"
     ]
    },
    {
     "name": "stderr",
     "output_type": "stream",
     "text": [
      "/opt/anaconda3/lib/python3.12/site-packages/sklearn/utils/validation.py:1300: DataConversionWarning: A column-vector y was passed when a 1d array was expected. Please change the shape of y to (n_samples, ), for example using ravel().\n",
      "  y = column_or_1d(y, warn=True)\n"
     ]
    },
    {
     "name": "stdout",
     "output_type": "stream",
     "text": [
      "name: SVC score: 0.956\n"
     ]
    },
    {
     "name": "stderr",
     "output_type": "stream",
     "text": [
      "/opt/anaconda3/lib/python3.12/site-packages/sklearn/utils/validation.py:1300: DataConversionWarning: A column-vector y was passed when a 1d array was expected. Please change the shape of y to (n_samples, ), for example using ravel().\n",
      "  y = column_or_1d(y, warn=True)\n",
      "/opt/anaconda3/lib/python3.12/site-packages/sklearn/ensemble/_weight_boosting.py:519: FutureWarning: The SAMME.R algorithm (the default) is deprecated and will be removed in 1.6. Use the SAMME algorithm to circumvent this warning.\n",
      "  warnings.warn(\n"
     ]
    },
    {
     "name": "stdout",
     "output_type": "stream",
     "text": [
      "name: AB score: 0.564\n"
     ]
    }
   ],
   "source": [
    "model_generator(X, y)"
   ]
  },
  {
   "cell_type": "code",
   "execution_count": 17,
   "metadata": {},
   "outputs": [
    {
     "name": "stdout",
     "output_type": "stream",
     "text": [
      "   Age  Gender_Female  Gender_Male  Gender_Other  Relationship_Status_Dating  \\\n",
      "0   56            0.0          1.0           0.0                         0.0   \n",
      "\n",
      "   Relationship_Status_Engaged  Relationship_Status_Married  \\\n",
      "0                          1.0                          0.0   \n",
      "\n",
      "   Relationship_Status_Single  Budget_High  Budget_Low  ...  \\\n",
      "0                         0.0          0.0         1.0  ...   \n",
      "\n",
      "   Recent_Purchase_3_Handbag  Recent_Purchase_3_Hat  \\\n",
      "0                        0.0                    0.0   \n",
      "\n",
      "   Recent_Purchase_3_Headphones  Recent_Purchase_3_Magazine Sub  \\\n",
      "0                           0.0                             1.0   \n",
      "\n",
      "   Recent_Purchase_3_Meal Kit Sub  Recent_Purchase_3_Necklace  \\\n",
      "0                             0.0                         0.0   \n",
      "\n",
      "   Recent_Purchase_3_Phone Charger  Recent_Purchase_3_Processor Chip  \\\n",
      "0                              0.0                               0.0   \n",
      "\n",
      "   Recent_Purchase_3_Smart Speaker  Recent_Purchase_3_Streaming Sub  \n",
      "0                              0.0                              0.0  \n",
      "\n",
      "[1 rows x 74 columns]\n"
     ]
    }
   ],
   "source": [
    "print(X.head(1))"
   ]
  },
  {
   "cell_type": "code",
   "execution_count": 21,
   "metadata": {},
   "outputs": [
    {
     "name": "stdout",
     "output_type": "stream",
     "text": [
      "<class 'pandas.core.frame.DataFrame'>\n",
      "RangeIndex: 2000 entries, 0 to 1999\n",
      "Data columns (total 14 columns):\n",
      " #   Column               Non-Null Count  Dtype \n",
      "---  ------               --------------  ----- \n",
      " 0   Gender               2000 non-null   object\n",
      " 1   Age                  2000 non-null   int64 \n",
      " 2   Relationship_Status  2000 non-null   object\n",
      " 3   Budget               2000 non-null   object\n",
      " 4   Occasion             2000 non-null   object\n",
      " 5   Preference           2000 non-null   object\n",
      " 6   Relationship_Length  2000 non-null   object\n",
      " 7   Personal_Interest    2000 non-null   object\n",
      " 8   Past_Gift_Item       2000 non-null   object\n",
      " 9   Past_Gift_Reaction   2000 non-null   object\n",
      " 10  Recent_Purchase_1    2000 non-null   object\n",
      " 11  Recent_Purchase_2    2000 non-null   object\n",
      " 12  Recent_Purchase_3    2000 non-null   object\n",
      " 13  Best_Gift            2000 non-null   object\n",
      "dtypes: int64(1), object(13)\n",
      "memory usage: 218.9+ KB\n"
     ]
    }
   ],
   "source": [
    "df.info()"
   ]
  },
  {
   "cell_type": "code",
   "execution_count": 24,
   "metadata": {},
   "outputs": [
    {
     "ename": "SyntaxError",
     "evalue": "invalid decimal literal (2413476806.py, line 23)",
     "output_type": "error",
     "traceback": [
      "\u001b[0;36m  Cell \u001b[0;32mIn[24], line 23\u001b[0;36m\u001b[0m\n\u001b[0;31m    5. Demo (Record gif 30s), next steps, questions\u001b[0m\n\u001b[0m                         ^\u001b[0m\n\u001b[0;31mSyntaxError\u001b[0m\u001b[0;31m:\u001b[0m invalid decimal literal\n"
     ]
    }
   ],
   "source": [
    "// DOT graph [Rakesh]\n",
    "// Correlation graph [Rakesh]\n",
    "\n",
    "// analyzed\n",
    "\n",
    "\n",
    "//Update README. [Sophak]\n",
    "//Update gitlab [Rakesh]\n",
    "\n",
    "\n",
    "---- presentation\n",
    "Who wants to present? Gab, Yujing, Sophak, Leonard, Leslie\n",
    "Slides\n",
    "\n",
    "0. Intro [Gab] \n",
    "1. Data Prep. [Gab] \n",
    "2. Model Pre-Processing - Optimization -> Dropping columns, Scalers, Encoding [Yujing]\n",
    "3. Model Creation -> correlation, [Sophak]\n",
    "       random forest vs desicion tree, dot graphs\n",
    "4. Data Analysis -> popular gifts, highest purchases [Leonard][Leslie]\n",
    "5. Demo (Record gif 30s), next steps, questions [Leslie]\n",
    "----------\n",
    "\n",
    "1. Gift using Team member data\n",
    "2. Add gifts icons/images to a slide \n",
    "\n",
    "TODO::\n",
    "Check deliverables of a project.\n"
   ]
  },
  {
   "cell_type": "code",
   "execution_count": null,
   "metadata": {},
   "outputs": [],
   "source": []
  }
 ],
 "metadata": {
  "kernelspec": {
   "display_name": "Python 3 (ipykernel)",
   "language": "python",
   "name": "python3"
  },
  "language_info": {
   "codemirror_mode": {
    "name": "ipython",
    "version": 3
   },
   "file_extension": ".py",
   "mimetype": "text/x-python",
   "name": "python",
   "nbconvert_exporter": "python",
   "pygments_lexer": "ipython3",
   "version": "3.12.4"
  }
 },
 "nbformat": 4,
 "nbformat_minor": 4
}
