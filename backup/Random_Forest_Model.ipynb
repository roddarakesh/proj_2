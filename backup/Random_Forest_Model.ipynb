{
  "nbformat": 4,
  "nbformat_minor": 0,
  "metadata": {
    "colab": {
      "provenance": [],
      "authorship_tag": "ABX9TyPO/jpjv55aliTRgE0eHyj/",
      "include_colab_link": true
    },
    "kernelspec": {
      "name": "python3",
      "display_name": "Python 3"
    },
    "language_info": {
      "name": "python"
    }
  },
  "cells": [
    {
      "cell_type": "markdown",
      "metadata": {
        "id": "view-in-github",
        "colab_type": "text"
      },
      "source": [
        "<a href=\"https://colab.research.google.com/github/roddarakesh/proj_2/blob/SSO%2FTemplate/Random_Forest_Model.ipynb\" target=\"_parent\"><img src=\"https://colab.research.google.com/assets/colab-badge.svg\" alt=\"Open In Colab\"/></a>"
      ]
    },
    {
      "cell_type": "code",
      "execution_count": null,
      "metadata": {
        "id": "2QQudKW79I0h"
      },
      "outputs": [],
      "source": [
        "import pandas as pd\n",
        "from sklearn.model_selection import train_test_split\n",
        "from sklearn.ensemble import RandomForestClassifier\n",
        "\n",
        "# Import the data"
      ]
    },
    {
      "cell_type": "code",
      "source": [],
      "metadata": {
        "id": "U9f21F6M_FNh"
      },
      "execution_count": null,
      "outputs": []
    },
    {
      "cell_type": "code",
      "source": [
        "# Create an X and y variable"
      ],
      "metadata": {
        "id": "EAtrcqOw9Pkx"
      },
      "execution_count": null,
      "outputs": []
    },
    {
      "cell_type": "code",
      "source": [
        "# Split the data into training and testing sets"
      ],
      "metadata": {
        "id": "2JQX4MvB9Rjx"
      },
      "execution_count": null,
      "outputs": []
    },
    {
      "cell_type": "code",
      "source": [
        "# Create a Random Forest model\n",
        "classifier = RandomForestClassifier(n_estimators=100,random_state42)\n",
        "\n",
        "# Fit (train) or model using the training data\n",
        "classifier.fit(X_train, y_train)\n",
        "\n",
        "# Calculate the accuracy of the model on the testing data\n",
        "classifier.score(X_test, y_test)"
      ],
      "metadata": {
        "id": "jiifkNsF9TOh"
      },
      "execution_count": null,
      "outputs": []
    },
    {
      "cell_type": "code",
      "source": [
        "# Calculate the accuracy of the model on the training data"
      ],
      "metadata": {
        "id": "rV94QP909XUC"
      },
      "execution_count": null,
      "outputs": []
    },
    {
      "cell_type": "code",
      "source": [
        "# Create a loop to vary the max_depth parameter\n",
        "# Make sure to record the train and test scores\n",
        "# for each pass.\n",
        "\n",
        "# Depths should span from 1 up to 15 in steps of 1\n",
        "depths = range(1, 15)\n",
        "\n",
        "# The scores dataframe will hold depths and scores\n",
        "# to make plotting easy\n",
        "scores = {'train': [], 'test': [], 'depth': []}\n",
        "\n",
        "# Loop through each depth\n",
        "for depth in depths:\n",
        "    clf = RandomForestClassifier(max_depth=depth)\n",
        "    clf.fit(X_train, y_train)\n",
        "\n",
        "    train_score = clf.score(X_train, y_train)\n",
        "    test_score = clf.score(X_test, y_test)\n",
        "\n",
        "    scores['depth'].append(depth)\n",
        "    scores['train'].append(train_score)\n",
        "    scores['test'].append(test_score)\n",
        "\n",
        "# Create a dataframe from the scores dictionary and\n",
        "# set the index to depth\n",
        "scores_df = pd.DataFrame(scores).set_index('depth')"
      ],
      "metadata": {
        "id": "thU8zg909ZE6"
      },
      "execution_count": null,
      "outputs": []
    },
    {
      "cell_type": "code",
      "source": [
        "# Plot the scores dataframe with the plot method\n",
        "scores_df.plot()"
      ],
      "metadata": {
        "id": "7qe4ql9A9cIB"
      },
      "execution_count": null,
      "outputs": []
    },
    {
      "cell_type": "code",
      "source": [],
      "metadata": {
        "id": "nCYTsiMM9d0B"
      },
      "execution_count": null,
      "outputs": []
    }
  ]
}